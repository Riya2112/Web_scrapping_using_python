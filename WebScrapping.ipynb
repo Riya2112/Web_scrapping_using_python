{
  "nbformat": 4,
  "nbformat_minor": 0,
  "metadata": {
    "colab": {
      "name": "WebScrapping.ipynb",
      "provenance": []
    },
    "kernelspec": {
      "name": "python3",
      "display_name": "Python 3"
    },
    "language_info": {
      "name": "python"
    }
  },
  "cells": [
    {
      "cell_type": "code",
      "metadata": {
        "colab": {
          "base_uri": "https://localhost:8080/"
        },
        "id": "W4H8r4qxlZBY",
        "outputId": "fac7cbb6-13e2-4add-e529-4e764ac4ecd7"
      },
      "source": [
        "import requests\n",
        "from bs4 import BeautifulSoup\n",
        "import pandas as pd\n",
        "\n",
        "Text=[]\n",
        "\n",
        "\n",
        "res=requests.get('https://en.m.wikipedia.org/wiki/Data_science ')\n",
        "soup=BeautifulSoup(res.text,'lxml')\n",
        "soup.select('mw-headline')\n",
        "for i in soup.select('.mw-headline'):\n",
        "  print(i.text)\n",
        "\n",
        "  Text.append(i.text)\n",
        "for i in soup.select('.me-headline'):\n",
        "  print(i.text)\n",
        "\n",
        "\n",
        "df = pd.DataFrame({'Heading':Text, })\n",
        "df.to_csv('data.csv', index=False, encoding='utf-8')"
      ],
      "execution_count": 1,
      "outputs": [
        {
          "output_type": "stream",
          "text": [
            "Foundations\n",
            "Relationship to statistics\n",
            "Etymology\n",
            "Early usage\n",
            "Modern usage\n",
            "Impact\n",
            "Technologies and techniques\n",
            "Techniques\n",
            "See also\n",
            "References\n"
          ],
          "name": "stdout"
        }
      ]
    }
  ]
}